{
 "cells": [
  {
   "cell_type": "code",
   "execution_count": 1,
   "metadata": {
    "collapsed": true
   },
   "outputs": [],
   "source": [
    "import math as mt\n",
    "import numpy as np\n",
    "import collections as cl"
   ]
  },
  {
   "cell_type": "markdown",
   "metadata": {},
   "source": [
    "Допустим, у нас есть список клиентов, интересы которых нам известны."
   ]
  },
  {
   "cell_type": "code",
   "execution_count": 2,
   "metadata": {
    "collapsed": true
   },
   "outputs": [],
   "source": [
    "user_items = [\n",
    "    [\"Hadoop\", \"Big Data\", \"HBase\", \"Java\", \"Spark\", \"Storm\", \"Cassandra\"],\n",
    "    [\"NoSQL\", \"MongoDB\", \"Cassandra\", \"HBase\", \"Postgres\"],\n",
    "    [\"Python\", \"scikit-learn\", \"scipy\", \"numpy\", \"statsmodels\", \"pandas\"],\n",
    "    [\"R\", \"Python\", \"statistics\", \"regression\", \"probability\"],\n",
    "    [\"machine learning\", \"regression\", \"decision trees\", \"libsvm\"],\n",
    "    [\"Python\", \"R\", \"Java\", \"C++\", \"Haskell\", \"programming languages\"],\n",
    "    [\"statistics\", \"probability\", \"mathematics\", \"theory\"],\n",
    "    [\"machine learning\", \"scikit-learn\", \"Mahout\", \"neural networks\"],\n",
    "    [\"neural networks\", \"deep learning\", \"Big Data\", \"artificial intelligence\"],\n",
    "    [\"Hadoop\", \"Java\", \"MapReduce\", \"Big Data\"],\n",
    "    [\"statistics\", \"R\", \"statsmodels\"],\n",
    "    [\"C++\", \"deep learning\", \"artificial intelligence\", \"probability\"],\n",
    "    [\"pandas\", \"R\", \"Python\"],\n",
    "    [\"databases\", \"HBase\", \"Postgres\", \"MySQL\", \"MongoDB\"],\n",
    "    [\"libsvm\", \"regression\", \"support vector machines\"]\n",
    "]"
   ]
  },
  {
   "cell_type": "markdown",
   "metadata": {},
   "source": [
    "Задача выдачи рекомендации этим клиентам, интересы которых нам известны, может быть решена разными способами:    \n",
    "\n",
    "1. ***Рекомендация наиболее популярного выбора***.   \n",
    "\n",
    "2. ***Рекомендация по преференциям схожих клиентов*** (user-user)  \n",
    "\n",
    "3. ***Рекомендации по схожести категорий*** (item-item)\n",
    "\n",
    "## 1. Рекомендация наиболее популярного выбора.\n",
    "\n",
    "Данный способ не учитывает особенностей выбора данного клиента в прошлом. По всем выборам, которые были сделаны в прошлом, выбираются наиболее популярные (наиболее частые) выборы, и предлагаются те, которых клиент еще не делал"
   ]
  },
  {
   "cell_type": "code",
   "execution_count": 3,
   "metadata": {
    "collapsed": false
   },
   "outputs": [
    {
     "name": "stdout",
     "output_type": "stream",
     "text": [
      "Интересы клиента id0: ['Hadoop', 'Big Data', 'HBase', 'Java', 'Spark', 'Storm', 'Cassandra']\n",
      "Рекомендации для клиента id0: [('Python', 4), ('R', 4), ('statistics', 3), ('regression', 3), ('probability', 3)]\n"
     ]
    }
   ],
   "source": [
    "most_popular = cl.Counter([j for i in user_items for j in i]).most_common()\n",
    "\n",
    "def popular_recommendation_user(user_id, mx=5):\n",
    "    return [(k,v) for (k,v) in most_popular if k not in user_items[user_id]][:mx]\n",
    "\n",
    "\n",
    "user_id = 0 # id клиента\n",
    "\n",
    "print('Интересы клиента id{}: {}'.format(user_id, user_items[user_id]))\n",
    "print('Рекомендации для клиента id{}: {}'.format(user_id, popular_recommendation_user(user_id)))"
   ]
  },
  {
   "cell_type": "markdown",
   "metadata": {},
   "source": [
    "Следует заметить, что на данную рекомендацию не влияет выбор, сделанный клиентом в прошлом. \n",
    "Рекомендация будет одинакова для всех клиентов (за исключением категорий, которые уже выбирались в прошлом)."
   ]
  },
  {
   "cell_type": "code",
   "execution_count": 4,
   "metadata": {
    "collapsed": false
   },
   "outputs": [
    {
     "name": "stdout",
     "output_type": "stream",
     "text": [
      "Интересы клиента id1: ['NoSQL', 'MongoDB', 'Cassandra', 'HBase', 'Postgres']\n",
      "Рекомендации для клиента id1: [('Python', 4), ('R', 4), ('Java', 3), ('statistics', 3), ('Big Data', 3)]\n"
     ]
    }
   ],
   "source": [
    "user_id = 1 # id клиента\n",
    "\n",
    "print('Интересы клиента id{}: {}'.format(user_id, user_items[user_id]))\n",
    "print('Рекомендации для клиента id{}: {}'.format(user_id, popular_recommendation_user(user_id)))"
   ]
  },
  {
   "cell_type": "code",
   "execution_count": 5,
   "metadata": {
    "collapsed": false
   },
   "outputs": [
    {
     "name": "stdout",
     "output_type": "stream",
     "text": [
      "Интересы клиента id2: ['Python', 'scikit-learn', 'scipy', 'numpy', 'statsmodels', 'pandas']\n",
      "Рекомендации для клиента id2: [('R', 4), ('Java', 3), ('statistics', 3), ('Big Data', 3), ('regression', 3)]\n"
     ]
    }
   ],
   "source": [
    "user_id = 2 # id клиента\n",
    "\n",
    "print('Интересы клиента id{}: {}'.format(user_id, user_items[user_id]))\n",
    "print('Рекомендации для клиента id{}: {}'.format(user_id, popular_recommendation_user(user_id)))"
   ]
  },
  {
   "cell_type": "markdown",
   "metadata": {},
   "source": [
    "## 2. Рекомендации по преференциям похожих клиентов (user-user)\n",
    "\n",
    "Клиент \"А\" в прошлом сделал определенный набор выборов. Например, клиент мог выбрать 'Big Data', 'Spark', и 'Python'. Основываясь на преференциях других клиентов, которые сделали похожие выборы, что еще мы можем порекомендовать данному клиенту?\n",
    "\n",
    "Данный способ рекомендаций основывается на предположении, что если клиенты \"А\" и \"В\" имеют схожие интересы, то что нравится \"В\" -- скорее всего понравится и \"А\". На практике, этот способ рекомендаций реализуется, когда мы звоним друзьям и спрашиваем совета, какой фильм посмотреть?    \n",
    "\n",
    "Математически задача решается следующим образом:  \n",
    "\n",
    "1. Определяется размерность пространства, в котором будет решаться задача. Размерность равняется количеству уникальных выборов.  \n",
    "\n",
    "2. Каждый клиент отображается в полученном n-мерном пространстве в виде вектора c координатами (0,1):\n",
    "    - 1, если клиент делал выбор по данной оси координат\n",
    "    - 0, если клиент не делал данный выбор\n",
    "3. В n-мерном пространстве выбираются вектора клиентов, наиболее \"близкие\" вектору клиента, для которого дается рекомендация. \"Близость\" определяется по [cosine_similarity](https://en.wikipedia.org/wiki/Cosine_similarity)  \n",
    "\n",
    "4. Предпочтения выбранных, наиболее \"близких\" клиентов суммируется и топовые преференции выдаются в виде рекомендации.  \n",
    "\n",
    "Для начала, давайте определим функцию `cosine similarity(v1,v2)`, с помощью который мы будем измерять \"близость\" двух клиентов в n-мерном пространстве, или, выражаясь простым языком, \"схожесть\" клиентов v1 и v2."
   ]
  },
  {
   "cell_type": "code",
   "execution_count": 6,
   "metadata": {
    "collapsed": true
   },
   "outputs": [],
   "source": [
    "def cosim(v1,v2):\n",
    "    return np.dot(v1,v2)/ mt.sqrt(np.dot(v1,v1)*np.dot(v2,v2))"
   ]
  },
  {
   "cell_type": "markdown",
   "metadata": {},
   "source": [
    "Затем, мы определим n-мерное пространство, в котором мы и будем искать похожих клиентов. Каждая ось в n-мерном пространстве -- это уникальный выбор, который был сделан в прошлом."
   ]
  },
  {
   "cell_type": "code",
   "execution_count": 9,
   "metadata": {
    "collapsed": false
   },
   "outputs": [
    {
     "data": {
      "text/plain": [
       "['Big Data', 'C++', 'Cassandra', 'HBase', 'Hadoop']"
      ]
     },
     "execution_count": 9,
     "metadata": {},
     "output_type": "execute_result"
    }
   ],
   "source": [
    "unique_items = sorted({j for i in user_items for j in i})\n",
    "unique_items[:5]"
   ]
  },
  {
   "cell_type": "markdown",
   "metadata": {},
   "source": [
    "Выборы, которые были сделаны в прошлом, необходимо перевести в n-мерное пространство. В n-мерном пространстве по каждой оси будет:   \n",
    "\n",
    "- 1, если такой выбор делался данным клиентом в прошлом\n",
    "- 0, если клиент не делал такой выбор в прошлом"
   ]
  },
  {
   "cell_type": "code",
   "execution_count": 10,
   "metadata": {
    "collapsed": false
   },
   "outputs": [],
   "source": [
    "def make_vector_items(items):\n",
    "    return [1 if i in items else 0 for i in unique_items]\n",
    "\n",
    "user_items_matrix = [make_vector_items(items) for items in user_items]"
   ]
  },
  {
   "cell_type": "markdown",
   "metadata": {},
   "source": [
    "Таким образом, мы получили m x n `user_items_matrix`, где строки представляют клиентов (m), а столбцы представляют сделанные ими выборы (n).\n",
    "\n",
    "$$\n",
    "  user\\_items\\_matrix_{ij}=\\begin{cases}\n",
    "    1, &  \\text{if client i made choice j}\\\\\n",
    "    0, &  \\text{if client i did NOT make choice j}\n",
    "  \\end{cases}\n",
    "$$"
   ]
  },
  {
   "cell_type": "markdown",
   "metadata": {},
   "source": [
    "Используя полученную матрицу интересов клиентов `user_items_matrix` на основе `cosim()` мы можем определить список наиболее схожих клиентов:"
   ]
  },
  {
   "cell_type": "code",
   "execution_count": 12,
   "metadata": {
    "collapsed": false
   },
   "outputs": [
    {
     "data": {
      "text/plain": [
       "[(9, 0.56694670951384085),\n",
       " (1, 0.33806170189140661),\n",
       " (8, 0.1889822365046136),\n",
       " (13, 0.1690308509457033),\n",
       " (5, 0.15430334996209191)]"
      ]
     },
     "execution_count": 12,
     "metadata": {},
     "output_type": "execute_result"
    }
   ],
   "source": [
    "def similar_users(user_ID):\n",
    "    pairs = [(user_id, cosim(user_items_matrix[user_ID], user_interest)) \n",
    "             for user_id, user_interest in enumerate(user_items_matrix) \n",
    "             if user_id != user_ID\n",
    "             and cosim(user_items_matrix[user_ID], user_interest) > 0]   \n",
    "    return sorted(pairs, key = lambda x: x[1], reverse =1)\n",
    "\n",
    "similar_users(0)"
   ]
  },
  {
   "cell_type": "markdown",
   "metadata": {},
   "source": [
    "И, наконец, функция выдачи рекомендаций, которая суммирует преференции по схожим клиентам:"
   ]
  },
  {
   "cell_type": "code",
   "execution_count": 15,
   "metadata": {
    "collapsed": true
   },
   "outputs": [],
   "source": [
    "def user_user_recommendation(user_ID, mx = 5):\n",
    "    recommendation = cl.defaultdict(float)\n",
    "# calculate recommendations over similar users\n",
    "    for user_id, cosim_similarity in similar_users(user_ID):\n",
    "        for interest in user_items[user_id]:\n",
    "            recommendation[interest] += cosim_similarity\n",
    "# sort them out \n",
    "    recommendation = sorted(recommendation.items(), key = lambda x: x[1], reverse=1)\n",
    "# exclude already existing items\n",
    "    recommendation = [i for i in recommendation if i[0] not in user_items[user_ID]]  \n",
    "    return recommendation[:mx]"
   ]
  },
  {
   "cell_type": "markdown",
   "metadata": {},
   "source": [
    "Теперь мы можем сравнить преференции, которые имеет пользователь, с наиболее популярными интересами по всей выборке (не принимая во внимание специфику данного клиента) и рекомендации для данного клиента, принимающие во внимание историю сделанных выборов."
   ]
  },
  {
   "cell_type": "code",
   "execution_count": 30,
   "metadata": {
    "collapsed": false
   },
   "outputs": [
    {
     "name": "stdout",
     "output_type": "stream",
     "text": [
      "Интересы клиента id_0: \n",
      "['Hadoop', 'Big Data', 'HBase', 'Java', 'Spark', 'Storm', 'Cassandra']\n",
      "\n",
      "Рекомендации для клиента id_0 по наиболее популярным запросам: \n",
      "[('Python', 4), ('R', 4), ('statistics', 3), ('regression', 3), ('probability', 3)]\n",
      "\n",
      "Рекомендации для клиента id_0 по схожим клиентам: \n",
      "[('MapReduce', 0.56694670951384085), ('Postgres', 0.50709255283710997), ('MongoDB', 0.50709255283710997), ('NoSQL', 0.33806170189140661), ('artificial intelligence', 0.1889822365046136)]\n"
     ]
    }
   ],
   "source": [
    "user_id = 0\n",
    "\n",
    "print('Интересы клиента id_{0}: \\n{1}\\n\\n\\\n",
    "Рекомендации для клиента id_{0} по наиболее популярным запросам: \\n{2}\\n\\n\\\n",
    "Рекомендации для клиента id_{0} по схожим клиентам: \\n{3}'\\\n",
    "      .format(user_id,user_items[user_id],popular_recommendation_user(user_id),user_user_recommendation(user_id)))"
   ]
  },
  {
   "cell_type": "markdown",
   "metadata": {},
   "source": [
    "## 3. Рекомендации по схожести категорий (item-item)\n",
    "\n",
    "Клиент уже выбрал несколько категорий, например 'Big Data', 'Spark' и 'Python'. Каждая выбранная категория, в свою очередь, также имеет наиболее близкие категории. Основываясь на схожести категорий, что еще мы можем посоветовать ему? Данный способ основывается на рекомендации категорий, которые наиболее \"близки\" уже сделанным выборам: \n",
    "\n",
    "- \"Близость\" определяется на основе cosine similarity\n",
    "- На основе cosine similarity выбираются категории, которые наиболее близки уже сделанным выборам  \n",
    "- Cosine similarity суммируется по всем выбранным (наиболее близким) категориям и выбираются топовые рекомендации, которых нет среди уже сделанных выборов.  \n",
    "\n",
    "Вспомним, что в основе рекомендаций лежал лист выборов, где каждый элемент листа ассоциировался с клиентом, а для каждого клиента был вектор выборов."
   ]
  },
  {
   "cell_type": "code",
   "execution_count": 21,
   "metadata": {
    "collapsed": false
   },
   "outputs": [
    {
     "data": {
      "text/plain": [
       "[['Hadoop', 'Big Data', 'HBase', 'Java', 'Spark', 'Storm', 'Cassandra'],\n",
       " ['NoSQL', 'MongoDB', 'Cassandra', 'HBase', 'Postgres'],\n",
       " ['Python', 'scikit-learn', 'scipy', 'numpy', 'statsmodels', 'pandas'],\n",
       " ['R', 'Python', 'statistics', 'regression', 'probability'],\n",
       " ['machine learning', 'regression', 'decision trees', 'libsvm'],\n",
       " ['Python', 'R', 'Java', 'C++', 'Haskell', 'programming languages'],\n",
       " ['statistics', 'probability', 'mathematics', 'theory'],\n",
       " ['machine learning', 'scikit-learn', 'Mahout', 'neural networks'],\n",
       " ['neural networks', 'deep learning', 'Big Data', 'artificial intelligence'],\n",
       " ['Hadoop', 'Java', 'MapReduce', 'Big Data'],\n",
       " ['statistics', 'R', 'statsmodels'],\n",
       " ['C++', 'deep learning', 'artificial intelligence', 'probability'],\n",
       " ['pandas', 'R', 'Python'],\n",
       " ['databases', 'HBase', 'Postgres', 'MySQL', 'MongoDB'],\n",
       " ['libsvm', 'regression', 'support vector machines']]"
      ]
     },
     "execution_count": 21,
     "metadata": {},
     "output_type": "execute_result"
    }
   ],
   "source": [
    "user_items"
   ]
  },
  {
   "cell_type": "markdown",
   "metadata": {
    "collapsed": false
   },
   "source": [
    "Для рекомендаций типа item-item нам необходимо привести эту матрицу к виду:\n",
    "\n",
    "$$\n",
    "  item\\_users\\_matrix_{ij}=\\begin{cases}\n",
    "    1, & \\text{if choice i was made by client j}\\\\\n",
    "    0, & \\text{if choice i was NOT made by client j}\n",
    "  \\end{cases}\n",
    "$$"
   ]
  },
  {
   "cell_type": "code",
   "execution_count": 32,
   "metadata": {
    "collapsed": false
   },
   "outputs": [
    {
     "data": {
      "text/plain": [
       "[[1, 0, 0, 0, 0, 0, 0, 0, 1, 1, 0, 0, 0, 0, 0],\n",
       " [0, 0, 0, 0, 0, 1, 0, 0, 0, 0, 0, 1, 0, 0, 0],\n",
       " [1, 1, 0, 0, 0, 0, 0, 0, 0, 0, 0, 0, 0, 0, 0],\n",
       " [1, 1, 0, 0, 0, 0, 0, 0, 0, 0, 0, 0, 0, 1, 0],\n",
       " [1, 0, 0, 0, 0, 0, 0, 0, 0, 1, 0, 0, 0, 0, 0]]"
      ]
     },
     "execution_count": 32,
     "metadata": {},
     "output_type": "execute_result"
    }
   ],
   "source": [
    "item_users_matrix = [[1 if i in j else 0 for j in user_items] for i in unique_items]\n",
    "item_users_matrix[:5]"
   ]
  },
  {
   "cell_type": "markdown",
   "metadata": {},
   "source": [
    "Точно также, как и для рекомендаций типа user-user, мы можем найти схожие категории:"
   ]
  },
  {
   "cell_type": "code",
   "execution_count": 33,
   "metadata": {
    "collapsed": false
   },
   "outputs": [
    {
     "data": {
      "text/plain": [
       "[('Hadoop', 0.81649658092772615),\n",
       " ('Java', 0.66666666666666663),\n",
       " ('MapReduce', 0.57735026918962584),\n",
       " ('Spark', 0.57735026918962584),\n",
       " ('Storm', 0.57735026918962584)]"
      ]
     },
     "execution_count": 33,
     "metadata": {},
     "output_type": "execute_result"
    }
   ],
   "source": [
    "def similar_items(interest_id):\n",
    "    pairs = [(unique_items[i], cosim(item_users_matrix[interest_id], item))\n",
    "             for i, item in enumerate(item_users_matrix)\n",
    "             if i != interest_id and cosim(item_users_matrix[interest_id], item) > 0\n",
    "            ]\n",
    "    pairs = sorted(pairs, key = lambda x: x[1], reverse =1)\n",
    "    return pairs\n",
    "\n",
    "similar_items(0)[:5]"
   ]
  },
  {
   "cell_type": "markdown",
   "metadata": {},
   "source": [
    "Для функции, которая непосредственно будет давать рекомендации, нам понадобится вспомогательный словарь, который будет сопоставлять название категории и её позицию в листе уникальных категорий:"
   ]
  },
  {
   "cell_type": "code",
   "execution_count": 35,
   "metadata": {
    "collapsed": false
   },
   "outputs": [
    {
     "name": "stdout",
     "output_type": "stream",
     "text": [
      "['Big Data', 'C++', 'Cassandra']\n",
      "0\n"
     ]
    }
   ],
   "source": [
    "unique_items_position = {k:v for v,k in enumerate(unique_items)}\n",
    "print(unique_items[:3])\n",
    "print(unique_items_position['Big Data'])"
   ]
  },
  {
   "cell_type": "markdown",
   "metadata": {},
   "source": [
    "Наконец, мы можем написать функцию, которая:  \n",
    "\n",
    "- найдет схожие категории для всех сделанных выборов\n",
    "- просуммирует cosine simialrity для всех схожих категорий  \n",
    "- выберет топовые 5 рекомендаций"
   ]
  },
  {
   "cell_type": "code",
   "execution_count": null,
   "metadata": {
    "collapsed": true
   },
   "outputs": [],
   "source": [
    "def item_item_recommendation(user_id, mx=5):\n",
    "    rec = cl.defaultdict(float)\n",
    "    for item in user_items[user_id]:\n",
    "        sim_items = similar_items(unique_items_position[item])\n",
    "        for it, similarity in sim_items:\n",
    "            rec[it] += similarity\n",
    "    rec = sorted(rec.items(), key=lambda x: x[1], reverse = 1)\n",
    "    rec = [i for i in rec if i[0] not in user_items[user_id]]\n",
    "    return rec[:mx]"
   ]
  },
  {
   "cell_type": "code",
   "execution_count": 42,
   "metadata": {
    "collapsed": false,
    "scrolled": true
   },
   "outputs": [
    {
     "name": "stdout",
     "output_type": "stream",
     "text": [
      "Интересы клиента id_0: \n",
      "['Hadoop', 'Big Data', 'HBase', 'Java', 'Spark', 'Storm', 'Cassandra']\n",
      "\n",
      "Рекомендации для клиента id_0 по наиболее популярным запросам: \n",
      "[('Python', 4), ('R', 4), ('statistics', 3), ('regression', 3), ('probability', 3)]\n",
      "\n",
      "Рекомендации для клиента id_0 user-user: \n",
      "[('MapReduce', 0.56694670951384085), ('Postgres', 0.50709255283710997), ('MongoDB', 0.50709255283710997), ('NoSQL', 0.33806170189140661), ('artificial intelligence', 0.1889822365046136)]\n",
      "\n",
      "Рекомендации для клиента id_0 item-item: \n",
      "[('MapReduce', 1.8618073195657989), ('Postgres', 1.3164965809277263), ('MongoDB', 1.3164965809277263), ('NoSQL', 1.2844570503761732), ('databases', 0.57735026918962584)]\n"
     ]
    }
   ],
   "source": [
    "user_id = 0\n",
    "\n",
    "print('Интересы клиента id_{0}: \\n{1}\\n\\n\\\n",
    "Рекомендации для клиента id_{0} по наиболее популярным запросам: \\n{2}\\n\\n\\\n",
    "Рекомендации для клиента id_{0} user-user: \\n{3}\\n\\n\\\n",
    "Рекомендации для клиента id_{0} item-item: \\n{4}'\\\n",
    "      .format(user_id,\n",
    "              user_items[user_id],\n",
    "              popular_recommendation_user(user_id),\n",
    "              user_user_recommendation(user_id),\n",
    "              item_item_recommendation(user_id)))"
   ]
  },
  {
   "cell_type": "markdown",
   "metadata": {},
   "source": [
    "Как мы видим, и user-user и item-item рекомендации довольны похожи."
   ]
  }
 ],
 "metadata": {
  "kernelspec": {
   "display_name": "Python 3",
   "language": "python",
   "name": "python3"
  },
  "language_info": {
   "codemirror_mode": {
    "name": "ipython",
    "version": 3
   },
   "file_extension": ".py",
   "mimetype": "text/x-python",
   "name": "python",
   "nbconvert_exporter": "python",
   "pygments_lexer": "ipython3",
   "version": "3.4.3"
  }
 },
 "nbformat": 4,
 "nbformat_minor": 0
}
